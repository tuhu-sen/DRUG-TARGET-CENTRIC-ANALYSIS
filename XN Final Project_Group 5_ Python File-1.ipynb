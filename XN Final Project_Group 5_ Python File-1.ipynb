{
 "cells": [
  {
   "cell_type": "markdown",
   "metadata": {},
   "source": [
    "### Importing Libraries"
   ]
  },
  {
   "cell_type": "code",
   "execution_count": 6,
   "metadata": {},
   "outputs": [],
   "source": [
    "import pandas as pd\n",
    "import numpy as np\n",
    "import matplotlib.pyplot as plt\n",
    "import seaborn as sns\n",
    "%matplotlib inline\n",
    "from scipy import stats"
   ]
  },
  {
   "cell_type": "markdown",
   "metadata": {},
   "source": [
    "### Importing Dataset"
   ]
  },
  {
   "cell_type": "code",
   "execution_count": 7,
   "metadata": {
    "scrolled": true
   },
   "outputs": [],
   "source": [
    "\n",
    "Stem_Activity = pd.read_csv('Stem Cell Growth Factor Receptor_Activity.csv')\n",
    "Stem_Assay = pd.read_csv('Stem Cell Growth Factor Receptor_Assay.csv')\n",
    "\n",
    "Epi_Activity = pd.read_csv(\"Epidermal Growth Factor Receptor_Activity.csv\")\n",
    "Epi_Assay = pd.read_csv(\"Epidermal Growth Factor Receptor_Assay.csv\")\n",
    "\n",
    "RET_Activity = pd.read_csv('Tyrosine-protein kinase receptor RET_Activity.csv')\n",
    "RET_Assay = pd.read_csv('Tyrosine-protein kinase receptor RET_Assay.csv')\n",
    "\n",
    "Plt_Activity = pd.read_csv('Platelet derived growth factor receptor beta_Activity.csv')\n",
    "Plt_Assay = pd.read_csv('Platelet derived growth factor receptor beta_Assay.csv')\n",
    "\n",
    "Glc_Activity = pd.read_csv('Glucocorticoid_Activity.csv')\n",
    "Glc_Assay = pd.read_csv('Glucocorticoid_Assay.csv')\n"
   ]
  },
  {
   "cell_type": "markdown",
   "metadata": {},
   "source": [
    "### Lengths of target dataframes\n"
   ]
  },
  {
   "cell_type": "code",
   "execution_count": 8,
   "metadata": {},
   "outputs": [
    {
     "data": {
      "text/plain": [
       "3767"
      ]
     },
     "execution_count": 8,
     "metadata": {},
     "output_type": "execute_result"
    }
   ],
   "source": [
    "len(Stem_Activity)"
   ]
  },
  {
   "cell_type": "code",
   "execution_count": 9,
   "metadata": {},
   "outputs": [
    {
     "data": {
      "text/plain": [
       "1457"
      ]
     },
     "execution_count": 9,
     "metadata": {},
     "output_type": "execute_result"
    }
   ],
   "source": [
    "len(Stem_Assay)"
   ]
  },
  {
   "cell_type": "code",
   "execution_count": 10,
   "metadata": {},
   "outputs": [
    {
     "data": {
      "text/plain": [
       "17804"
      ]
     },
     "execution_count": 10,
     "metadata": {},
     "output_type": "execute_result"
    }
   ],
   "source": [
    "len(Epi_Activity)"
   ]
  },
  {
   "cell_type": "code",
   "execution_count": 11,
   "metadata": {},
   "outputs": [
    {
     "data": {
      "text/plain": [
       "3000"
      ]
     },
     "execution_count": 11,
     "metadata": {},
     "output_type": "execute_result"
    }
   ],
   "source": [
    "len(Epi_Assay)"
   ]
  },
  {
   "cell_type": "code",
   "execution_count": 12,
   "metadata": {},
   "outputs": [
    {
     "data": {
      "text/plain": [
       "2005"
      ]
     },
     "execution_count": 12,
     "metadata": {},
     "output_type": "execute_result"
    }
   ],
   "source": [
    "len(RET_Activity)"
   ]
  },
  {
   "cell_type": "code",
   "execution_count": 13,
   "metadata": {},
   "outputs": [
    {
     "data": {
      "text/plain": [
       "731"
      ]
     },
     "execution_count": 13,
     "metadata": {},
     "output_type": "execute_result"
    }
   ],
   "source": [
    "len(RET_Assay)"
   ]
  },
  {
   "cell_type": "code",
   "execution_count": 14,
   "metadata": {},
   "outputs": [
    {
     "data": {
      "text/plain": [
       "2556"
      ]
     },
     "execution_count": 14,
     "metadata": {},
     "output_type": "execute_result"
    }
   ],
   "source": [
    "len(Plt_Activity)"
   ]
  },
  {
   "cell_type": "code",
   "execution_count": 15,
   "metadata": {},
   "outputs": [
    {
     "data": {
      "text/plain": [
       "116"
      ]
     },
     "execution_count": 15,
     "metadata": {},
     "output_type": "execute_result"
    }
   ],
   "source": [
    "len(Plt_Assay)"
   ]
  },
  {
   "cell_type": "code",
   "execution_count": 16,
   "metadata": {},
   "outputs": [
    {
     "data": {
      "text/plain": [
       "1642"
      ]
     },
     "execution_count": 16,
     "metadata": {},
     "output_type": "execute_result"
    }
   ],
   "source": [
    "len(Glc_Activity)"
   ]
  },
  {
   "cell_type": "code",
   "execution_count": 17,
   "metadata": {},
   "outputs": [
    {
     "data": {
      "text/plain": [
       "951"
      ]
     },
     "execution_count": 17,
     "metadata": {},
     "output_type": "execute_result"
    }
   ],
   "source": [
    "len(Glc_Assay)"
   ]
  },
  {
   "cell_type": "markdown",
   "metadata": {},
   "source": [
    "### Count of Null Values"
   ]
  },
  {
   "cell_type": "code",
   "execution_count": 18,
   "metadata": {},
   "outputs": [
    {
     "data": {
      "text/plain": [
       "Molecule ChEMBL ID               0\n",
       "Molecule Name                 2663\n",
       "Molecule Max Phase               0\n",
       "Molecular Weight                 0\n",
       "#RO5 Violations                  0\n",
       "AlogP                            0\n",
       "Compound Key                     0\n",
       "Smiles                         164\n",
       "Standard Type                  164\n",
       "Standard Relation              277\n",
       "Standard Value                 277\n",
       "Standard Units                 277\n",
       "pChEMBL Value                 1572\n",
       "Data Validity Comment         3749\n",
       "Comment                       2654\n",
       "Uo Units                       277\n",
       "Ligand Efficiency BEI         1778\n",
       "Ligand Efficiency LE          1778\n",
       "Ligand Efficiency LLE         1778\n",
       "Ligand Efficiency SEI         1778\n",
       "Potential Duplicate            164\n",
       "Assay ChEMBL ID                164\n",
       "Assay Description              164\n",
       "Assay Type                     844\n",
       "BAO Format ID                  844\n",
       "BAO Label                      844\n",
       "Assay Organism                 844\n",
       "Assay Tissue ChEMBL ID         844\n",
       "Assay Tissue Name              844\n",
       "Assay Cell Type                844\n",
       "Assay Subcellular Fraction     844\n",
       "Assay Parameters              3765\n",
       "Assay Variant Accession       3064\n",
       "Assay Variant Mutation        3064\n",
       "Target ChEMBL ID               920\n",
       "Target Name                    920\n",
       "Target Organism                920\n",
       "Target Type                    920\n",
       "Document ChEMBL ID             920\n",
       "Source ID                      920\n",
       "Source Description             920\n",
       "Document Journal              1644\n",
       "Document Year                 1596\n",
       "Cell ChEMBL ID                 920\n",
       "Properties                    3764\n",
       "dtype: int64"
      ]
     },
     "execution_count": 18,
     "metadata": {},
     "output_type": "execute_result"
    }
   ],
   "source": [
    "Stem_Activity.isnull().sum()"
   ]
  },
  {
   "cell_type": "code",
   "execution_count": 19,
   "metadata": {},
   "outputs": [
    {
     "data": {
      "text/plain": [
       "ChEMBL ID                        0\n",
       "Assay Type                       0\n",
       "Description                      0\n",
       "Organism                       400\n",
       "Compounds                      178\n",
       "Activities                     178\n",
       "BAO Format ID                  178\n",
       "BAO Format                     178\n",
       "Confidence Score               178\n",
       "Confidence Label               178\n",
       "Strain                        1457\n",
       "Source                         178\n",
       "Tax ID                         455\n",
       "Assay Type.1                   178\n",
       "Tissue ChEMBL ID              1457\n",
       "Tissue Name                   1457\n",
       "Cell Type                     1259\n",
       "Subcellular Fraction          1457\n",
       "Document ChEMBL ID             178\n",
       "PubMed ID                      178\n",
       "DOI                            178\n",
       "Year                           178\n",
       "Journal                        178\n",
       "Volume                         178\n",
       "First Page                     178\n",
       "Last Page                      178\n",
       "Assay Parameters              1445\n",
       "Assay Classification L1       1457\n",
       "Assay Classification L2       1457\n",
       "Assay Classification L3       1457\n",
       "Variant Sequence Accession     948\n",
       "Variant Sequence Mutation      948\n",
       "dtype: int64"
      ]
     },
     "execution_count": 19,
     "metadata": {},
     "output_type": "execute_result"
    }
   ],
   "source": [
    "Stem_Assay.isnull().sum()"
   ]
  },
  {
   "cell_type": "code",
   "execution_count": 20,
   "metadata": {},
   "outputs": [
    {
     "data": {
      "text/plain": [
       "Molecule ChEMBL ID                0\n",
       "Molecule Name                 13762\n",
       "Molecule Max Phase               12\n",
       "Molecular Weight                 12\n",
       "#RO5 Violations                  12\n",
       "AlogP                            12\n",
       "Compound Key                     12\n",
       "Smiles                         1153\n",
       "Standard Type                  1091\n",
       "Standard Relation              3326\n",
       "Standard Value                 3329\n",
       "Standard Units                 3329\n",
       "pChEMBL Value                  7163\n",
       "Data Validity Comment         17433\n",
       "Comment                       14343\n",
       "Uo Units                       3329\n",
       "Ligand Efficiency BEI          8553\n",
       "Ligand Efficiency LE           8553\n",
       "Ligand Efficiency LLE          8553\n",
       "Ligand Efficiency SEI          8553\n",
       "Potential Duplicate            1091\n",
       "Assay ChEMBL ID                1091\n",
       "Assay Description              1091\n",
       "Assay Type                     4800\n",
       "BAO Format ID                  4800\n",
       "BAO Label                      4800\n",
       "Assay Organism                 4800\n",
       "Assay Tissue ChEMBL ID         4800\n",
       "Assay Tissue Name              4800\n",
       "Assay Cell Type                4800\n",
       "Assay Subcellular Fraction     4800\n",
       "Assay Parameters              17802\n",
       "Assay Variant Accession       15594\n",
       "Assay Variant Mutation        15587\n",
       "Target ChEMBL ID               6044\n",
       "Target Name                    6044\n",
       "Target Organism                6044\n",
       "Target Type                    6044\n",
       "Document ChEMBL ID             6044\n",
       "Source ID                      6044\n",
       "Source Description             6044\n",
       "Document Journal               6946\n",
       "Document Year                  6650\n",
       "Cell ChEMBL ID                 6044\n",
       "Properties                    17799\n",
       "dtype: int64"
      ]
     },
     "execution_count": 20,
     "metadata": {},
     "output_type": "execute_result"
    }
   ],
   "source": [
    "Epi_Activity.isnull().sum()"
   ]
  },
  {
   "cell_type": "code",
   "execution_count": 21,
   "metadata": {},
   "outputs": [
    {
     "data": {
      "text/plain": [
       "ChEMBL ID                        0\n",
       "Assay Type                       0\n",
       "Description                      0\n",
       "Organism                       821\n",
       "Compounds                      243\n",
       "Activities                     243\n",
       "BAO Format ID                  243\n",
       "BAO Format                     243\n",
       "Confidence Score               243\n",
       "Confidence Label               243\n",
       "Strain                        3000\n",
       "Source                         243\n",
       "Tax ID                         852\n",
       "Assay Type.1                   243\n",
       "Tissue ChEMBL ID              2999\n",
       "Tissue Name                   2999\n",
       "Cell Type                     2195\n",
       "Subcellular Fraction          2998\n",
       "Document ChEMBL ID             243\n",
       "PubMed ID                      243\n",
       "DOI                            243\n",
       "Year                           243\n",
       "Journal                        243\n",
       "Volume                         243\n",
       "First Page                     243\n",
       "Last Page                      243\n",
       "Assay Parameters              2981\n",
       "Assay Classification L1       3000\n",
       "Assay Classification L2       3000\n",
       "Assay Classification L3       3000\n",
       "Variant Sequence Accession    2304\n",
       "Variant Sequence Mutation     2304\n",
       "dtype: int64"
      ]
     },
     "execution_count": 21,
     "metadata": {},
     "output_type": "execute_result"
    }
   ],
   "source": [
    "Epi_Assay.isnull().sum()"
   ]
  },
  {
   "cell_type": "code",
   "execution_count": 22,
   "metadata": {},
   "outputs": [
    {
     "data": {
      "text/plain": [
       "Molecule ChEMBL ID               0\n",
       "Molecule Name                 1480\n",
       "Molecule Max Phase               0\n",
       "Molecular Weight                 0\n",
       "#RO5 Violations                  0\n",
       "AlogP                            0\n",
       "Compound Key                     0\n",
       "Smiles                          53\n",
       "Standard Type                   53\n",
       "Standard Relation               62\n",
       "Standard Value                  62\n",
       "Standard Units                  62\n",
       "pChEMBL Value                  770\n",
       "Data Validity Comment         2005\n",
       "Comment                       1214\n",
       "Uo Units                        62\n",
       "Ligand Efficiency BEI         1118\n",
       "Ligand Efficiency LE          1118\n",
       "Ligand Efficiency LLE         1118\n",
       "Ligand Efficiency SEI         1118\n",
       "Potential Duplicate             53\n",
       "Assay ChEMBL ID                 53\n",
       "Assay Description               53\n",
       "Assay Type                     154\n",
       "BAO Format ID                  154\n",
       "BAO Label                      154\n",
       "Assay Organism                 154\n",
       "Assay Tissue ChEMBL ID         154\n",
       "Assay Tissue Name              154\n",
       "Assay Cell Type                154\n",
       "Assay Subcellular Fraction     154\n",
       "Assay Parameters              2005\n",
       "Assay Variant Accession       1633\n",
       "Assay Variant Mutation        1633\n",
       "Target ChEMBL ID               154\n",
       "Target Name                    154\n",
       "Target Organism                154\n",
       "Target Type                    154\n",
       "Document ChEMBL ID             154\n",
       "Source ID                      154\n",
       "Source Description             154\n",
       "Document Journal               914\n",
       "Document Year                  913\n",
       "Cell ChEMBL ID                 154\n",
       "Properties                    2004\n",
       "dtype: int64"
      ]
     },
     "execution_count": 22,
     "metadata": {},
     "output_type": "execute_result"
    }
   ],
   "source": [
    "RET_Activity.isnull().sum()"
   ]
  },
  {
   "cell_type": "code",
   "execution_count": 23,
   "metadata": {},
   "outputs": [
    {
     "data": {
      "text/plain": [
       "ChEMBL ID                       0\n",
       "Assay Type                      0\n",
       "Description                     0\n",
       "Organism                      170\n",
       "Compounds                      42\n",
       "Activities                     42\n",
       "BAO Format ID                  42\n",
       "BAO Format                     42\n",
       "Confidence Score               42\n",
       "Confidence Label               42\n",
       "Strain                        731\n",
       "Source                         42\n",
       "Tax ID                        207\n",
       "Assay Type.1                   42\n",
       "Tissue ChEMBL ID              731\n",
       "Tissue Name                   731\n",
       "Cell Type                     643\n",
       "Subcellular Fraction          731\n",
       "Document ChEMBL ID             42\n",
       "PubMed ID                      42\n",
       "DOI                            42\n",
       "Year                           42\n",
       "Journal                        42\n",
       "Volume                         42\n",
       "First Page                     42\n",
       "Last Page                      42\n",
       "Assay Parameters              723\n",
       "Assay Classification L1       731\n",
       "Assay Classification L2       731\n",
       "Assay Classification L3       731\n",
       "Variant Sequence Accession    499\n",
       "Variant Sequence Mutation     499\n",
       "dtype: int64"
      ]
     },
     "execution_count": 23,
     "metadata": {},
     "output_type": "execute_result"
    }
   ],
   "source": [
    "RET_Assay.isnull().sum()"
   ]
  },
  {
   "cell_type": "code",
   "execution_count": 24,
   "metadata": {},
   "outputs": [
    {
     "data": {
      "text/plain": [
       "Molecule ChEMBL ID               0\n",
       "Molecule Name                 2210\n",
       "Molecule Max Phase               0\n",
       "Molecular Weight                 0\n",
       "#RO5 Violations                  0\n",
       "AlogP                            0\n",
       "Compound Key                     0\n",
       "Smiles                         139\n",
       "Standard Type                  139\n",
       "Standard Relation              191\n",
       "Standard Value                 191\n",
       "Standard Units                 191\n",
       "pChEMBL Value                  803\n",
       "Data Validity Comment         2456\n",
       "Comment                       1891\n",
       "Uo Units                       191\n",
       "Ligand Efficiency BEI         1012\n",
       "Ligand Efficiency LE          1012\n",
       "Ligand Efficiency LLE         1012\n",
       "Ligand Efficiency SEI         1012\n",
       "Potential Duplicate            139\n",
       "Assay ChEMBL ID                139\n",
       "Assay Description              139\n",
       "Assay Type                     531\n",
       "BAO Format ID                  531\n",
       "BAO Label                      531\n",
       "Assay Organism                 531\n",
       "Assay Tissue ChEMBL ID         531\n",
       "Assay Tissue Name              531\n",
       "Assay Cell Type                531\n",
       "Assay Subcellular Fraction     531\n",
       "Assay Parameters              2556\n",
       "Assay Variant Accession       2556\n",
       "Assay Variant Mutation        2556\n",
       "Target ChEMBL ID               531\n",
       "Target Name                    531\n",
       "Target Organism                531\n",
       "Target Type                    531\n",
       "Document ChEMBL ID             531\n",
       "Source ID                      531\n",
       "Source Description             531\n",
       "Document Journal               850\n",
       "Document Year                  836\n",
       "Cell ChEMBL ID                 531\n",
       "Properties                    2553\n",
       "dtype: int64"
      ]
     },
     "execution_count": 24,
     "metadata": {},
     "output_type": "execute_result"
    }
   ],
   "source": [
    "Plt_Activity.isnull().sum()"
   ]
  },
  {
   "cell_type": "code",
   "execution_count": 25,
   "metadata": {},
   "outputs": [
    {
     "data": {
      "text/plain": [
       "ChEMBL ID                       0\n",
       "Assay Type                      0\n",
       "Description                     0\n",
       "Organism                       30\n",
       "Compounds                       1\n",
       "Activities                      1\n",
       "BAO Format ID                   1\n",
       "BAO Format                      1\n",
       "Confidence Score                1\n",
       "Confidence Label                1\n",
       "Strain                        116\n",
       "Source                          1\n",
       "Tax ID                         30\n",
       "Assay Type.1                    1\n",
       "Tissue ChEMBL ID              116\n",
       "Tissue Name                   116\n",
       "Cell Type                     113\n",
       "Subcellular Fraction          116\n",
       "Document ChEMBL ID              1\n",
       "PubMed ID                       1\n",
       "DOI                             1\n",
       "Year                            1\n",
       "Journal                         1\n",
       "Volume                          1\n",
       "First Page                      1\n",
       "Last Page                       1\n",
       "Assay Parameters              115\n",
       "Assay Classification L1       116\n",
       "Assay Classification L2       116\n",
       "Assay Classification L3       116\n",
       "Variant Sequence Accession    116\n",
       "Variant Sequence Mutation     116\n",
       "dtype: int64"
      ]
     },
     "execution_count": 25,
     "metadata": {},
     "output_type": "execute_result"
    }
   ],
   "source": [
    "Plt_Assay.isnull().sum()"
   ]
  },
  {
   "cell_type": "code",
   "execution_count": 26,
   "metadata": {},
   "outputs": [
    {
     "data": {
      "text/plain": [
       "Molecule ChEMBL ID               0\n",
       "Molecule Name                 1521\n",
       "Molecule Max Phase               4\n",
       "Molecular Weight                 4\n",
       "#RO5 Violations                  4\n",
       "AlogP                            4\n",
       "Compound Key                     4\n",
       "Smiles                         139\n",
       "Standard Type                  139\n",
       "Standard Relation              261\n",
       "Standard Value                 261\n",
       "Standard Units                 261\n",
       "pChEMBL Value                  552\n",
       "Data Validity Comment         1632\n",
       "Comment                       1520\n",
       "Uo Units                       261\n",
       "Ligand Efficiency BEI          925\n",
       "Ligand Efficiency LE           925\n",
       "Ligand Efficiency LLE          925\n",
       "Ligand Efficiency SEI          925\n",
       "Potential Duplicate            139\n",
       "Assay ChEMBL ID                139\n",
       "Assay Description              139\n",
       "Assay Type                     156\n",
       "BAO Format ID                  156\n",
       "BAO Label                      156\n",
       "Assay Organism                 156\n",
       "Assay Tissue ChEMBL ID         156\n",
       "Assay Tissue Name              156\n",
       "Assay Cell Type                156\n",
       "Assay Subcellular Fraction     156\n",
       "Assay Parameters              1642\n",
       "Assay Variant Accession       1642\n",
       "Assay Variant Mutation        1642\n",
       "Target ChEMBL ID               156\n",
       "Target Name                    156\n",
       "Target Organism                156\n",
       "Target Type                    156\n",
       "Document ChEMBL ID             156\n",
       "Source ID                      156\n",
       "Source Description             156\n",
       "Document Journal               156\n",
       "Document Year                  156\n",
       "Cell ChEMBL ID                 156\n",
       "Properties                    1642\n",
       "dtype: int64"
      ]
     },
     "execution_count": 26,
     "metadata": {},
     "output_type": "execute_result"
    }
   ],
   "source": [
    "Glc_Activity.isnull().sum()"
   ]
  },
  {
   "cell_type": "code",
   "execution_count": 27,
   "metadata": {},
   "outputs": [
    {
     "data": {
      "text/plain": [
       "ChEMBL ID                       0\n",
       "Assay Type                      0\n",
       "Description                     0\n",
       "Organism                      182\n",
       "Compounds                       7\n",
       "Activities                      7\n",
       "BAO Format ID                   7\n",
       "BAO Format                      7\n",
       "Confidence Score                7\n",
       "Confidence Label                7\n",
       "Strain                        951\n",
       "Source                          7\n",
       "Tax ID                        181\n",
       "Assay Type.1                    7\n",
       "Tissue ChEMBL ID              947\n",
       "Tissue Name                   947\n",
       "Cell Type                     517\n",
       "Subcellular Fraction          949\n",
       "Document ChEMBL ID              7\n",
       "PubMed ID                       7\n",
       "DOI                             7\n",
       "Year                            7\n",
       "Journal                         7\n",
       "Volume                          7\n",
       "First Page                      7\n",
       "Last Page                       7\n",
       "Assay Parameters              937\n",
       "Assay Classification L1       951\n",
       "Assay Classification L2       951\n",
       "Assay Classification L3       951\n",
       "Variant Sequence Accession    949\n",
       "Variant Sequence Mutation     949\n",
       "dtype: int64"
      ]
     },
     "execution_count": 27,
     "metadata": {},
     "output_type": "execute_result"
    }
   ],
   "source": [
    "Glc_Assay.isnull().sum()"
   ]
  },
  {
   "cell_type": "markdown",
   "metadata": {},
   "source": [
    "### Removing null values from the target Dataframes"
   ]
  },
  {
   "cell_type": "code",
   "execution_count": 28,
   "metadata": {},
   "outputs": [],
   "source": [
    "Stem_Activity = Stem_Activity[Stem_Activity['pChEMBL Value'].notna()]\n",
    "Epi_Activity = Epi_Activity[Epi_Activity['pChEMBL Value'].notna()]\n",
    "RET_Activity = RET_Activity[RET_Activity['pChEMBL Value'].notna()]\n",
    "Plt_Activity = Plt_Activity[Plt_Activity['pChEMBL Value'].notna()]\n",
    "Glc_Activity = Glc_Activity[Glc_Activity['pChEMBL Value'].notna()]\n",
    "\n",
    "Stem_Assay= Stem_Assay[Stem_Assay['Compounds'].notnull()]\n",
    "Epi_Assay= Epi_Assay[Epi_Assay['Compounds'].notnull()]\n",
    "RET_Assay= RET_Assay[RET_Assay['Compounds'].notnull()]\n",
    "Plt_Assay= Plt_Assay[Plt_Assay['Compounds'].notnull()]\n",
    "Glc_Assay= Glc_Assay[Glc_Assay['Compounds'].notnull()]\n",
    "\n"
   ]
  },
  {
   "cell_type": "markdown",
   "metadata": {},
   "source": [
    "### Lenght of dataframes after removing null values"
   ]
  },
  {
   "cell_type": "code",
   "execution_count": 29,
   "metadata": {},
   "outputs": [
    {
     "data": {
      "text/plain": [
       "2195"
      ]
     },
     "execution_count": 29,
     "metadata": {},
     "output_type": "execute_result"
    }
   ],
   "source": [
    "len(Stem_Activity)"
   ]
  },
  {
   "cell_type": "code",
   "execution_count": 30,
   "metadata": {},
   "outputs": [
    {
     "data": {
      "text/plain": [
       "1279"
      ]
     },
     "execution_count": 30,
     "metadata": {},
     "output_type": "execute_result"
    }
   ],
   "source": [
    "len(Stem_Assay)"
   ]
  },
  {
   "cell_type": "code",
   "execution_count": 31,
   "metadata": {},
   "outputs": [
    {
     "data": {
      "text/plain": [
       "10641"
      ]
     },
     "execution_count": 31,
     "metadata": {},
     "output_type": "execute_result"
    }
   ],
   "source": [
    "len(Epi_Activity)"
   ]
  },
  {
   "cell_type": "code",
   "execution_count": 32,
   "metadata": {},
   "outputs": [
    {
     "data": {
      "text/plain": [
       "2757"
      ]
     },
     "execution_count": 32,
     "metadata": {},
     "output_type": "execute_result"
    }
   ],
   "source": [
    "len(Epi_Assay)"
   ]
  },
  {
   "cell_type": "code",
   "execution_count": 33,
   "metadata": {},
   "outputs": [
    {
     "data": {
      "text/plain": [
       "1235"
      ]
     },
     "execution_count": 33,
     "metadata": {},
     "output_type": "execute_result"
    }
   ],
   "source": [
    "len(RET_Activity)"
   ]
  },
  {
   "cell_type": "code",
   "execution_count": 34,
   "metadata": {},
   "outputs": [
    {
     "data": {
      "text/plain": [
       "689"
      ]
     },
     "execution_count": 34,
     "metadata": {},
     "output_type": "execute_result"
    }
   ],
   "source": [
    "len(RET_Assay)"
   ]
  },
  {
   "cell_type": "code",
   "execution_count": 35,
   "metadata": {},
   "outputs": [
    {
     "data": {
      "text/plain": [
       "1753"
      ]
     },
     "execution_count": 35,
     "metadata": {},
     "output_type": "execute_result"
    }
   ],
   "source": [
    "len(Plt_Activity)"
   ]
  },
  {
   "cell_type": "code",
   "execution_count": 36,
   "metadata": {},
   "outputs": [
    {
     "data": {
      "text/plain": [
       "115"
      ]
     },
     "execution_count": 36,
     "metadata": {},
     "output_type": "execute_result"
    }
   ],
   "source": [
    "len(Plt_Assay)\n"
   ]
  },
  {
   "cell_type": "code",
   "execution_count": 37,
   "metadata": {},
   "outputs": [
    {
     "data": {
      "text/plain": [
       "1090"
      ]
     },
     "execution_count": 37,
     "metadata": {},
     "output_type": "execute_result"
    }
   ],
   "source": [
    "len(Glc_Activity)\n"
   ]
  },
  {
   "cell_type": "code",
   "execution_count": 38,
   "metadata": {},
   "outputs": [
    {
     "data": {
      "text/plain": [
       "944"
      ]
     },
     "execution_count": 38,
     "metadata": {},
     "output_type": "execute_result"
    }
   ],
   "source": [
    "len(Glc_Assay)\n"
   ]
  },
  {
   "cell_type": "markdown",
   "metadata": {},
   "source": [
    "### Summary Statistics"
   ]
  },
  {
   "cell_type": "code",
   "execution_count": 39,
   "metadata": {},
   "outputs": [
    {
     "data": {
      "text/plain": [
       "count    2195.000000\n",
       "mean        7.069339\n",
       "std         1.072748\n",
       "min         4.000000\n",
       "25%         6.350000\n",
       "50%         7.090000\n",
       "75%         7.800000\n",
       "max        10.700000\n",
       "Name: pChEMBL Value, dtype: float64"
      ]
     },
     "execution_count": 39,
     "metadata": {},
     "output_type": "execute_result"
    }
   ],
   "source": [
    "Stem_Activity['pChEMBL Value'].describe()"
   ]
  },
  {
   "cell_type": "code",
   "execution_count": 121,
   "metadata": {},
   "outputs": [],
   "source": [
    "## Calculating lower and upper outlier limits ( IOR *1.5)\n",
    "Q1 = 6.350000\n",
    "Q3 = 7.800000\n",
    "\n",
    "l1 = Q1 -(Q3-Q1)*1.5\n",
    "l2 = Q3 +(Q3-Q1)*1.5"
   ]
  },
  {
   "cell_type": "code",
   "execution_count": 122,
   "metadata": {},
   "outputs": [
    {
     "data": {
      "text/plain": [
       "4.174999999999999"
      ]
     },
     "execution_count": 122,
     "metadata": {},
     "output_type": "execute_result"
    }
   ],
   "source": [
    "l1"
   ]
  },
  {
   "cell_type": "code",
   "execution_count": 123,
   "metadata": {},
   "outputs": [
    {
     "data": {
      "text/plain": [
       "9.975"
      ]
     },
     "execution_count": 123,
     "metadata": {},
     "output_type": "execute_result"
    }
   ],
   "source": [
    "l2"
   ]
  },
  {
   "cell_type": "code",
   "execution_count": 124,
   "metadata": {},
   "outputs": [
    {
     "data": {
      "text/plain": [
       "2"
      ]
     },
     "execution_count": 124,
     "metadata": {},
     "output_type": "execute_result"
    }
   ],
   "source": [
    "#calculating lower limit outliers\n",
    "Stem_Activity['pChEMBL Value'][Stem_Activity['pChEMBL Value'] < l1].count()"
   ]
  },
  {
   "cell_type": "code",
   "execution_count": 125,
   "metadata": {},
   "outputs": [
    {
     "data": {
      "text/plain": [
       "1"
      ]
     },
     "execution_count": 125,
     "metadata": {},
     "output_type": "execute_result"
    }
   ],
   "source": [
    "#calculating higher limit outliers\n",
    "Stem_Activity['pChEMBL Value'][Stem_Activity['pChEMBL Value'] > l2].count()"
   ]
  },
  {
   "cell_type": "code",
   "execution_count": 126,
   "metadata": {},
   "outputs": [
    {
     "data": {
      "text/plain": [
       "count    10641.000000\n",
       "mean         6.834228\n",
       "std          1.336402\n",
       "min          4.000000\n",
       "25%          5.820000\n",
       "50%          6.830000\n",
       "75%          7.820000\n",
       "max         11.000000\n",
       "Name: pChEMBL Value, dtype: float64"
      ]
     },
     "execution_count": 126,
     "metadata": {},
     "output_type": "execute_result"
    }
   ],
   "source": [
    "Epi_Activity['pChEMBL Value'].describe()"
   ]
  },
  {
   "cell_type": "code",
   "execution_count": 127,
   "metadata": {},
   "outputs": [],
   "source": [
    "## Calculating lower and upper outlier limits ( IOR *1.5)\n",
    "Q1 = 5.820000\n",
    "Q3 = 7.820000\n",
    "\n",
    "l1 = Q1 -(Q3-Q1)*1.5\n",
    "l2 = Q3 +(Q3-Q1)*1.5"
   ]
  },
  {
   "cell_type": "code",
   "execution_count": 47,
   "metadata": {},
   "outputs": [
    {
     "data": {
      "text/plain": [
       "2.8200000000000003"
      ]
     },
     "execution_count": 47,
     "metadata": {},
     "output_type": "execute_result"
    }
   ],
   "source": [
    "l1"
   ]
  },
  {
   "cell_type": "code",
   "execution_count": 48,
   "metadata": {},
   "outputs": [
    {
     "data": {
      "text/plain": [
       "10.82"
      ]
     },
     "execution_count": 48,
     "metadata": {},
     "output_type": "execute_result"
    }
   ],
   "source": [
    "l2"
   ]
  },
  {
   "cell_type": "code",
   "execution_count": 49,
   "metadata": {},
   "outputs": [
    {
     "data": {
      "text/plain": [
       "0"
      ]
     },
     "execution_count": 49,
     "metadata": {},
     "output_type": "execute_result"
    }
   ],
   "source": [
    "#calculating lower limit outliers\n",
    "Epi_Activity['pChEMBL Value'][Epi_Activity['pChEMBL Value'] < l1].count()"
   ]
  },
  {
   "cell_type": "code",
   "execution_count": 50,
   "metadata": {},
   "outputs": [
    {
     "data": {
      "text/plain": [
       "1"
      ]
     },
     "execution_count": 50,
     "metadata": {},
     "output_type": "execute_result"
    }
   ],
   "source": [
    "#calculating upper limit outliers\n",
    "Epi_Activity['pChEMBL Value'][Epi_Activity['pChEMBL Value'] > l2].count()"
   ]
  },
  {
   "cell_type": "code",
   "execution_count": 51,
   "metadata": {},
   "outputs": [
    {
     "data": {
      "text/plain": [
       "count    1235.000000\n",
       "mean        6.771093\n",
       "std         1.269502\n",
       "min         4.000000\n",
       "25%         5.900000\n",
       "50%         6.800000\n",
       "75%         7.735000\n",
       "max        10.400000\n",
       "Name: pChEMBL Value, dtype: float64"
      ]
     },
     "execution_count": 51,
     "metadata": {},
     "output_type": "execute_result"
    }
   ],
   "source": [
    "RET_Activity['pChEMBL Value'].describe()"
   ]
  },
  {
   "cell_type": "code",
   "execution_count": 52,
   "metadata": {},
   "outputs": [
    {
     "data": {
      "text/plain": [
       "count    1753.000000\n",
       "mean        6.678186\n",
       "std         1.235763\n",
       "min         4.030000\n",
       "25%         5.800000\n",
       "50%         6.700000\n",
       "75%         7.580000\n",
       "max        10.120000\n",
       "Name: pChEMBL Value, dtype: float64"
      ]
     },
     "execution_count": 52,
     "metadata": {},
     "output_type": "execute_result"
    }
   ],
   "source": [
    "Plt_Activity['pChEMBL Value'].describe()"
   ]
  },
  {
   "cell_type": "code",
   "execution_count": 53,
   "metadata": {},
   "outputs": [
    {
     "data": {
      "text/plain": [
       "count    1090.000000\n",
       "mean        7.365917\n",
       "std         0.929852\n",
       "min         4.000000\n",
       "25%         6.690000\n",
       "50%         7.405000\n",
       "75%         7.960000\n",
       "max        10.400000\n",
       "Name: pChEMBL Value, dtype: float64"
      ]
     },
     "execution_count": 53,
     "metadata": {},
     "output_type": "execute_result"
    }
   ],
   "source": [
    "Glc_Activity['pChEMBL Value'].describe()"
   ]
  },
  {
   "cell_type": "code",
   "execution_count": 54,
   "metadata": {},
   "outputs": [],
   "source": [
    "Q1 = 6.690000\n",
    "Q3 = 7.960000\n",
    "\n",
    "l1 = Q1 -(Q3-Q1)*1.5\n",
    "l2 = Q3 +(Q3-Q1)*1.5"
   ]
  },
  {
   "cell_type": "code",
   "execution_count": 55,
   "metadata": {},
   "outputs": [
    {
     "data": {
      "text/plain": [
       "4.785000000000001"
      ]
     },
     "execution_count": 55,
     "metadata": {},
     "output_type": "execute_result"
    }
   ],
   "source": [
    "l1"
   ]
  },
  {
   "cell_type": "code",
   "execution_count": 56,
   "metadata": {},
   "outputs": [
    {
     "data": {
      "text/plain": [
       "9.864999999999998"
      ]
     },
     "execution_count": 56,
     "metadata": {},
     "output_type": "execute_result"
    }
   ],
   "source": [
    "l2"
   ]
  },
  {
   "cell_type": "code",
   "execution_count": 57,
   "metadata": {},
   "outputs": [
    {
     "data": {
      "text/plain": [
       "5"
      ]
     },
     "execution_count": 57,
     "metadata": {},
     "output_type": "execute_result"
    }
   ],
   "source": [
    "#calculating lower limit outliers\n",
    "Glc_Activity['pChEMBL Value'][Glc_Activity['pChEMBL Value'] < l1].count()"
   ]
  },
  {
   "cell_type": "code",
   "execution_count": 58,
   "metadata": {},
   "outputs": [
    {
     "data": {
      "text/plain": [
       "5"
      ]
     },
     "execution_count": 58,
     "metadata": {},
     "output_type": "execute_result"
    }
   ],
   "source": [
    "#calculating upper limit outliers\n",
    "Glc_Activity['pChEMBL Value'][Glc_Activity['pChEMBL Value'] > l2].count()"
   ]
  },
  {
   "cell_type": "markdown",
   "metadata": {},
   "source": [
    "### ASSAY EDA"
   ]
  },
  {
   "cell_type": "code",
   "execution_count": 128,
   "metadata": {},
   "outputs": [
    {
     "name": "stdout",
     "output_type": "stream",
     "text": [
      "B    1257\n",
      "F      22\n",
      "Name: Assay Type, dtype: int64\n"
     ]
    },
    {
     "data": {
      "text/plain": [
       "<matplotlib.axes._subplots.AxesSubplot at 0x22bbeff7408>"
      ]
     },
     "execution_count": 128,
     "metadata": {},
     "output_type": "execute_result"
    },
    {
     "data": {
      "image/png": "[encoded data removed]",
      "text/plain": [
       "<Figure size 432x288 with 1 Axes>"
      ]
     },
     "metadata": {},
     "output_type": "display_data"
    }
   ],
   "source": [
    "print(Stem_Assay['Assay Type'].value_counts())\n",
    "Stem_Assay['Assay Type'].value_counts().plot(kind='pie')"
   ]
  },
  {
   "cell_type": "code",
   "execution_count": 60,
   "metadata": {},
   "outputs": [
    {
     "name": "stdout",
     "output_type": "stream",
     "text": [
      "B    2648\n",
      "F     109\n",
      "Name: Assay Type, dtype: int64\n"
     ]
    },
    {
     "data": {
      "text/plain": [
       "<matplotlib.axes._subplots.AxesSubplot at 0x22bbef40b88>"
      ]
     },
     "execution_count": 60,
     "metadata": {},
     "output_type": "execute_result"
    },
    {
     "data": {
      "image/png": "[encoded data removed]",
      "text/plain": [
       "<Figure size 432x288 with 1 Axes>"
      ]
     },
     "metadata": {},
     "output_type": "display_data"
    }
   ],
   "source": [
    "print(Epi_Assay['Assay Type'].value_counts())\n",
    "Epi_Assay['Assay Type'].value_counts().plot(kind='pie')"
   ]
  },
  {
   "cell_type": "code",
   "execution_count": 61,
   "metadata": {},
   "outputs": [
    {
     "name": "stdout",
     "output_type": "stream",
     "text": [
      "B    688\n",
      "F      1\n",
      "Name: Assay Type, dtype: int64\n"
     ]
    },
    {
     "data": {
      "text/plain": [
       "<matplotlib.axes._subplots.AxesSubplot at 0x22bbed2dec8>"
      ]
     },
     "execution_count": 61,
     "metadata": {},
     "output_type": "execute_result"
    },
    {
     "data": {
      "image/png": "[encoded data removed]",
      "text/plain": [
       "<Figure size 432x288 with 1 Axes>"
      ]
     },
     "metadata": {},
     "output_type": "display_data"
    }
   ],
   "source": [
    "print(RET_Assay['Assay Type'].value_counts())\n",
    "RET_Assay['Assay Type'].value_counts().plot(kind='pie')"
   ]
  },
  {
   "cell_type": "code",
   "execution_count": 62,
   "metadata": {},
   "outputs": [
    {
     "name": "stdout",
     "output_type": "stream",
     "text": [
      "B    111\n",
      "F      4\n",
      "Name: Assay Type, dtype: int64\n"
     ]
    },
    {
     "data": {
      "text/plain": [
       "<matplotlib.axes._subplots.AxesSubplot at 0x22bbea69448>"
      ]
     },
     "execution_count": 62,
     "metadata": {},
     "output_type": "execute_result"
    },
    {
     "data": {
      "image/png": "[encoded data removed]",
      "text/plain": [
       "<Figure size 432x288 with 1 Axes>"
      ]
     },
     "metadata": {},
     "output_type": "display_data"
    }
   ],
   "source": [
    "print(Plt_Assay['Assay Type'].value_counts())\n",
    "Plt_Assay['Assay Type'].value_counts().plot(kind='pie')"
   ]
  },
  {
   "cell_type": "code",
   "execution_count": 63,
   "metadata": {},
   "outputs": [
    {
     "name": "stdout",
     "output_type": "stream",
     "text": [
      "B    688\n",
      "F    256\n",
      "Name: Assay Type, dtype: int64\n"
     ]
    },
    {
     "data": {
      "text/plain": [
       "<matplotlib.axes._subplots.AxesSubplot at 0x22bbeb62748>"
      ]
     },
     "execution_count": 63,
     "metadata": {},
     "output_type": "execute_result"
    },
    {
     "data": {
      "image/png": "[encoded data removed]",
      "text/plain": [
       "<Figure size 432x288 with 1 Axes>"
      ]
     },
     "metadata": {},
     "output_type": "display_data"
    }
   ],
   "source": [
    "print(Glc_Assay['Assay Type'].value_counts())\n",
    "Glc_Assay['Assay Type'].value_counts().plot(kind='pie')"
   ]
  },
  {
   "cell_type": "code",
   "execution_count": 64,
   "metadata": {},
   "outputs": [
    {
     "name": "stdout",
     "output_type": "stream",
     "text": [
      "9.0    988\n",
      "8.0    291\n",
      "Name: Confidence Score, dtype: int64\n"
     ]
    },
    {
     "data": {
      "text/plain": [
       "Text(0.5, 1.0, 'Stem Cell Growth Factor Receptor - Confidence')"
      ]
     },
     "execution_count": 64,
     "metadata": {},
     "output_type": "execute_result"
    },
    {
     "data": {
      "image/png": "[encoded data removed]",
      "text/plain": [
       "<Figure size 432x288 with 1 Axes>"
      ]
     },
     "metadata": {
      "needs_background": "light"
     },
     "output_type": "display_data"
    }
   ],
   "source": [
    "print(Stem_Assay['Confidence Score'].value_counts())\n",
    "Stem_Assay['Confidence Score'].value_counts().plot(kind='barh',color = 'orange')\n",
    "plt.ylabel('Confidence Score')\n",
    "plt.xlabel('Number of entries')\n",
    "plt.title('Stem Cell Growth Factor Receptor - Confidence')"
   ]
  },
  {
   "cell_type": "code",
   "execution_count": 65,
   "metadata": {},
   "outputs": [
    {
     "name": "stdout",
     "output_type": "stream",
     "text": [
      "9.0    2148\n",
      "8.0     609\n",
      "Name: Confidence Score, dtype: int64\n"
     ]
    },
    {
     "data": {
      "text/plain": [
       "Text(0.5, 1.0, 'Epidermal Growth Factor Receptor - Confidence')"
      ]
     },
     "execution_count": 65,
     "metadata": {},
     "output_type": "execute_result"
    },
    {
     "data": {
      "image/png": "[encoded data removed]",
      "text/plain": [
       "<Figure size 432x288 with 1 Axes>"
      ]
     },
     "metadata": {
      "needs_background": "light"
     },
     "output_type": "display_data"
    }
   ],
   "source": [
    "print(Epi_Assay['Confidence Score'].value_counts())\n",
    "Epi_Assay['Confidence Score'].value_counts().plot(kind='barh', color = 'darkblue')\n",
    "plt.ylabel('Confidence Score')\n",
    "plt.xlabel('Number of entries')\n",
    "plt.title('Epidermal Growth Factor Receptor - Confidence')"
   ]
  },
  {
   "cell_type": "code",
   "execution_count": 66,
   "metadata": {},
   "outputs": [
    {
     "name": "stdout",
     "output_type": "stream",
     "text": [
      "9.0    522\n",
      "8.0    167\n",
      "Name: Confidence Score, dtype: int64\n"
     ]
    },
    {
     "data": {
      "text/plain": [
       "Text(0.5, 1.0, 'Tyrosine Protein Kinase RET - Confidence')"
      ]
     },
     "execution_count": 66,
     "metadata": {},
     "output_type": "execute_result"
    },
    {
     "data": {
      "image/png": "[encoded data removed]",
      "text/plain": [
       "<Figure size 432x288 with 1 Axes>"
      ]
     },
     "metadata": {
      "needs_background": "light"
     },
     "output_type": "display_data"
    }
   ],
   "source": [
    "print(RET_Assay['Confidence Score'].value_counts())\n",
    "RET_Assay['Confidence Score'].value_counts().plot(kind='barh',Color ='grey')\n",
    "plt.ylabel('Confidence Score')\n",
    "plt.xlabel('Number of entries')\n",
    "plt.title('Tyrosine Protein Kinase RET - Confidence')"
   ]
  },
  {
   "cell_type": "code",
   "execution_count": 67,
   "metadata": {},
   "outputs": [
    {
     "name": "stdout",
     "output_type": "stream",
     "text": [
      "7.0    86\n",
      "6.0    29\n",
      "Name: Confidence Score, dtype: int64\n"
     ]
    },
    {
     "data": {
      "text/plain": [
       "Text(0.5, 1.0, 'Platelet Derived Growth Factor Receptor - Confidence')"
      ]
     },
     "execution_count": 67,
     "metadata": {},
     "output_type": "execute_result"
    },
    {
     "data": {
      "image/png": "[encoded data removed]",
      "text/plain": [
       "<Figure size 432x288 with 1 Axes>"
      ]
     },
     "metadata": {
      "needs_background": "light"
     },
     "output_type": "display_data"
    }
   ],
   "source": [
    "print(Plt_Assay['Confidence Score'].value_counts())\n",
    "Plt_Assay['Confidence Score'].value_counts().plot(kind='barh',Color ='green')\n",
    "plt.ylabel('Confidence Score')\n",
    "plt.xlabel('Number of entries')\n",
    "plt.title('Platelet Derived Growth Factor Receptor - Confidence')"
   ]
  },
  {
   "cell_type": "code",
   "execution_count": 68,
   "metadata": {},
   "outputs": [
    {
     "name": "stdout",
     "output_type": "stream",
     "text": [
      "9.0    768\n",
      "8.0    176\n",
      "Name: Confidence Score, dtype: int64\n"
     ]
    },
    {
     "data": {
      "text/plain": [
       "Text(0.5, 1.0, 'Glucocorticoid Receptor - Confidence')"
      ]
     },
     "execution_count": 68,
     "metadata": {},
     "output_type": "execute_result"
    },
    {
     "data": {
      "image/png": "[encoded data removed]",
      "text/plain": [
       "<Figure size 432x288 with 1 Axes>"
      ]
     },
     "metadata": {
      "needs_background": "light"
     },
     "output_type": "display_data"
    }
   ],
   "source": [
    "print(Glc_Assay['Confidence Score'].value_counts())\n",
    "Glc_Assay['Confidence Score'].value_counts().plot(kind='barh',Color ='red')\n",
    "plt.ylabel('Confidence Score')\n",
    "plt.xlabel('Number of entries')\n",
    "plt.title('Glucocorticoid Receptor - Confidence')"
   ]
  },
  {
   "cell_type": "markdown",
   "metadata": {},
   "source": [
    "### HISTOGRAM"
   ]
  },
  {
   "cell_type": "code",
   "execution_count": 69,
   "metadata": {},
   "outputs": [
    {
     "name": "stderr",
     "output_type": "stream",
     "text": [
      "C:\\Users\\spawa\\Anaconda3\\lib\\site-packages\\ipykernel_launcher.py:10: FutureWarning: The 'get_values' method is deprecated and will be removed in a future version. Use '.to_numpy()' or '.array' instead.\n",
      "  # Remove the CWD from sys.path while we load stuff.\n"
     ]
    },
    {
     "data": {
      "image/png": "[encoded data removed]",
      "text/plain": [
       "<Figure size 432x288 with 2 Axes>"
      ]
     },
     "metadata": {
      "needs_background": "light"
     },
     "output_type": "display_data"
    }
   ],
   "source": [
    "from matplotlib import pyplot as plt\n",
    "import pandas as pd\n",
    "import seaborn as sns\n",
    "\n",
    "#Stem Cell Growth Factor receptor\n",
    "\n",
    "f, (ax_box, ax_hist) = plt.subplots(2, sharex=True, gridspec_kw= {\"height_ratios\": (0.2, 1)})\n",
    "mean=Stem_Activity['pChEMBL Value'].mean()\n",
    "median=Stem_Activity['pChEMBL Value'].median()\n",
    "mode=Stem_Activity['pChEMBL Value'].mode().get_values()[0]\n",
    "\n",
    "sns.boxplot(Stem_Activity['pChEMBL Value'], ax=ax_box)\n",
    "ax_box.axvline(mean, color='r', linestyle='--')\n",
    "ax_box.axvline(median, color='g', linestyle='-')\n",
    "ax_box.axvline(mode, color='b', linestyle='-')\n",
    "\n",
    "sns.distplot(Stem_Activity['pChEMBL Value'], ax=ax_hist,color = 'cyan', bins = 80)\n",
    "ax_hist.axvline(mean, color='r', linestyle='--')\n",
    "ax_hist.axvline(median, color='g', linestyle='-')\n",
    "ax_hist.axvline(mode, color='b', linestyle='-')\n",
    "\n",
    "plt.legend({'Mean':mean,'Median':median,'Mode':mode})\n",
    "\n",
    "plt.title(\"Stem Cell Growth Factor receptor - pChEMBL Distribution\")\n",
    "ax_box.set(xlabel='')\n",
    "plt.show()"
   ]
  },
  {
   "cell_type": "code",
   "execution_count": 70,
   "metadata": {},
   "outputs": [
    {
     "name": "stderr",
     "output_type": "stream",
     "text": [
      "C:\\Users\\spawa\\Anaconda3\\lib\\site-packages\\ipykernel_launcher.py:6: FutureWarning: The 'get_values' method is deprecated and will be removed in a future version. Use '.to_numpy()' or '.array' instead.\n",
      "  \n"
     ]
    },
    {
     "data": {
      "image/png": "[encoded data removed]",
      "text/plain": [
       "<Figure size 432x288 with 2 Axes>"
      ]
     },
     "metadata": {
      "needs_background": "light"
     },
     "output_type": "display_data"
    }
   ],
   "source": [
    "#Epidermal growth factor receptor\n",
    "\n",
    "f, (ax_box, ax_hist) = plt.subplots(2, sharex=True, gridspec_kw= {\"height_ratios\": (0.2, 1)})\n",
    "mean=Epi_Activity['pChEMBL Value'].mean()\n",
    "median=Epi_Activity['pChEMBL Value'].median()\n",
    "mode=Epi_Activity['pChEMBL Value'].mode().get_values()[0]\n",
    "\n",
    "sns.boxplot(Epi_Activity['pChEMBL Value'], ax=ax_box)\n",
    "ax_box.axvline(mean, color='r', linestyle='--')\n",
    "ax_box.axvline(median, color='g', linestyle='-')\n",
    "ax_box.axvline(mode, color='b', linestyle='-')\n",
    "\n",
    "sns.distplot(Epi_Activity['pChEMBL Value'], ax=ax_hist,color = 'orange', bins = 80)\n",
    "ax_hist.axvline(mean, color='r', linestyle='--')\n",
    "ax_hist.axvline(median, color='g', linestyle='-')\n",
    "ax_hist.axvline(mode, color='b', linestyle='-')\n",
    "\n",
    "plt.legend({'Mean':mean,'Median':median,'Mode':mode})\n",
    "plt.title(\"Epidermal Growth Factor receptor - pChEMBL Distribution\")\n",
    "ax_box.set(xlabel='')\n",
    "plt.show()"
   ]
  },
  {
   "cell_type": "code",
   "execution_count": 71,
   "metadata": {},
   "outputs": [
    {
     "name": "stderr",
     "output_type": "stream",
     "text": [
      "C:\\Users\\spawa\\Anaconda3\\lib\\site-packages\\ipykernel_launcher.py:6: FutureWarning: The 'get_values' method is deprecated and will be removed in a future version. Use '.to_numpy()' or '.array' instead.\n",
      "  \n"
     ]
    },
    {
     "data": {
      "image/png": "[encoded data removed]",
      "text/plain": [
       "<Figure size 432x288 with 2 Axes>"
      ]
     },
     "metadata": {
      "needs_background": "light"
     },
     "output_type": "display_data"
    }
   ],
   "source": [
    "#Tyrosin-Protein Kinase RET receptor\n",
    "\n",
    "f, (ax_box, ax_hist) = plt.subplots(2, sharex=True, gridspec_kw= {\"height_ratios\": (0.2, 1)})\n",
    "mean=RET_Activity['pChEMBL Value'].mean()\n",
    "median=RET_Activity['pChEMBL Value'].median()\n",
    "mode=RET_Activity['pChEMBL Value'].mode().get_values()[0]\n",
    "\n",
    "sns.boxplot(RET_Activity['pChEMBL Value'], ax=ax_box)\n",
    "ax_box.axvline(mean, color='r', linestyle='--')\n",
    "ax_box.axvline(median, color='g', linestyle='-')\n",
    "ax_box.axvline(mode, color='b', linestyle='-')\n",
    "\n",
    "sns.distplot(RET_Activity['pChEMBL Value'], ax=ax_hist,color = 'purple', bins = 80)\n",
    "ax_hist.axvline(mean, color='r', linestyle='--')\n",
    "ax_hist.axvline(median, color='g', linestyle='-')\n",
    "ax_hist.axvline(mode, color='b', linestyle='-')\n",
    "\n",
    "plt.legend({'Mean':mean,'Median':median,'Mode':mode})\n",
    "plt.title(\"Tyrosine Protein Kinase RET - pChEMBL Distribution\")\n",
    "ax_box.set(xlabel='')\n",
    "plt.show()"
   ]
  },
  {
   "cell_type": "code",
   "execution_count": 72,
   "metadata": {},
   "outputs": [
    {
     "name": "stderr",
     "output_type": "stream",
     "text": [
      "C:\\Users\\spawa\\Anaconda3\\lib\\site-packages\\ipykernel_launcher.py:6: FutureWarning: The 'get_values' method is deprecated and will be removed in a future version. Use '.to_numpy()' or '.array' instead.\n",
      "  \n"
     ]
    },
    {
     "data": {
      "image/png": "[encoded data removed]",
      "text/plain": [
       "<Figure size 432x288 with 2 Axes>"
      ]
     },
     "metadata": {
      "needs_background": "light"
     },
     "output_type": "display_data"
    }
   ],
   "source": [
    "#Platelet derived growth factor receptor\n",
    "\n",
    "f, (ax_box, ax_hist) = plt.subplots(2, sharex=True, gridspec_kw= {\"height_ratios\": (0.2, 1)})\n",
    "mean=Plt_Activity['pChEMBL Value'].mean()\n",
    "median=Plt_Activity['pChEMBL Value'].median()\n",
    "mode=Plt_Activity['pChEMBL Value'].mode().get_values()[0]\n",
    "\n",
    "sns.boxplot(Plt_Activity['pChEMBL Value'], ax=ax_box)\n",
    "ax_box.axvline(mean, color='r', linestyle='--')\n",
    "ax_box.axvline(median, color='g', linestyle='-')\n",
    "ax_box.axvline(mode, color='b', linestyle='-')\n",
    "\n",
    "sns.distplot(Plt_Activity['pChEMBL Value'], ax=ax_hist,color = 'grey', bins = 80)\n",
    "ax_hist.axvline(mean, color='r', linestyle='--')\n",
    "ax_hist.axvline(median, color='g', linestyle='-')\n",
    "ax_hist.axvline(mode, color='b', linestyle='-')\n",
    "\n",
    "plt.legend({'Mean':mean,'Median':median,'Mode':mode})\n",
    "plt.title(\" Platelet derived growth factor receptor - pChEMBL Distribution\")\n",
    "ax_box.set(xlabel='')\n",
    "plt.show()"
   ]
  },
  {
   "cell_type": "code",
   "execution_count": 73,
   "metadata": {},
   "outputs": [
    {
     "name": "stderr",
     "output_type": "stream",
     "text": [
      "C:\\Users\\spawa\\Anaconda3\\lib\\site-packages\\ipykernel_launcher.py:6: FutureWarning: The 'get_values' method is deprecated and will be removed in a future version. Use '.to_numpy()' or '.array' instead.\n",
      "  \n"
     ]
    },
    {
     "data": {
      "image/png": "[encoded data removed]",
      "text/plain": [
       "<Figure size 432x288 with 2 Axes>"
      ]
     },
     "metadata": {
      "needs_background": "light"
     },
     "output_type": "display_data"
    }
   ],
   "source": [
    "#Glucocorticoid receptor\n",
    "\n",
    "f, (ax_box, ax_hist) = plt.subplots(2, sharex=True, gridspec_kw= {\"height_ratios\": (0.2, 1)})\n",
    "mean=Glc_Activity['pChEMBL Value'].mean()\n",
    "median=Glc_Activity['pChEMBL Value'].median()\n",
    "mode=Glc_Activity['pChEMBL Value'].mode().get_values()[0]\n",
    "\n",
    "sns.boxplot(Glc_Activity['pChEMBL Value'], ax=ax_box)\n",
    "ax_box.axvline(mean, color='r', linestyle='--')\n",
    "ax_box.axvline(median, color='g', linestyle='-')\n",
    "ax_box.axvline(mode, color='b', linestyle='-')\n",
    "\n",
    "sns.distplot(Glc_Activity['pChEMBL Value'], ax=ax_hist,color = 'Red', bins = 80)\n",
    "ax_hist.axvline(mean, color='r', linestyle='--')\n",
    "ax_hist.axvline(median, color='g', linestyle='-')\n",
    "ax_hist.axvline(mode, color='b', linestyle='-')\n",
    "\n",
    "plt.legend({'Mean':mean,'Median':median,'Mode':mode})\n",
    "plt.title(\"Glucocorticoid receptor - pChEMBL Distribution\")\n",
    "ax_box.set(xlabel='')\n",
    "plt.show()"
   ]
  },
  {
   "cell_type": "markdown",
   "metadata": {},
   "source": [
    "### Hypothesis Test"
   ]
  },
  {
   "cell_type": "code",
   "execution_count": 74,
   "metadata": {},
   "outputs": [],
   "source": [
    "Stem = Stem_Activity['pChEMBL Value'].to_numpy()\n",
    "Epi = Epi_Activity['pChEMBL Value'].to_numpy()\n",
    "RET = RET_Activity['pChEMBL Value'].to_numpy()\n",
    "Plt = Plt_Activity['pChEMBL Value'].to_numpy()\n",
    "Glc = Glc_Activity['pChEMBL Value'].to_numpy()"
   ]
  },
  {
   "cell_type": "markdown",
   "metadata": {},
   "source": [
    "### Glucocorticoid v/s the rest"
   ]
  },
  {
   "cell_type": "code",
   "execution_count": 100,
   "metadata": {},
   "outputs": [
    {
     "data": {
      "text/plain": [
       "Ttest_indResult(statistic=8.170748855786341, pvalue=4.838375667597003e-16)"
      ]
     },
     "execution_count": 100,
     "metadata": {},
     "output_type": "execute_result"
    }
   ],
   "source": [
    "stats.ttest_ind(Glc, Stem, equal_var = False)"
   ]
  },
  {
   "cell_type": "code",
   "execution_count": 101,
   "metadata": {},
   "outputs": [
    {
     "data": {
      "text/plain": [
       "Ttest_indResult(statistic=17.150625347401906, pvalue=1.2420447489829622e-60)"
      ]
     },
     "execution_count": 101,
     "metadata": {},
     "output_type": "execute_result"
    }
   ],
   "source": [
    "stats.ttest_ind(Glc, Epi, equal_var = False)"
   ]
  },
  {
   "cell_type": "code",
   "execution_count": 102,
   "metadata": {},
   "outputs": [
    {
     "data": {
      "text/plain": [
       "Ttest_indResult(statistic=12.985691601287286, pvalue=3.107571717304906e-37)"
      ]
     },
     "execution_count": 102,
     "metadata": {},
     "output_type": "execute_result"
    }
   ],
   "source": [
    "stats.ttest_ind(Glc, RET, equal_var = False)"
   ]
  },
  {
   "cell_type": "code",
   "execution_count": 103,
   "metadata": {},
   "outputs": [
    {
     "data": {
      "text/plain": [
       "Ttest_indResult(statistic=16.857504343491453, pvalue=9.584793581493725e-61)"
      ]
     },
     "execution_count": 103,
     "metadata": {},
     "output_type": "execute_result"
    }
   ],
   "source": [
    "stats.ttest_ind(Glc, Plt, equal_var = False)"
   ]
  },
  {
   "cell_type": "markdown",
   "metadata": {},
   "source": [
    "### Skewness of the Top 5 targets"
   ]
  },
  {
   "cell_type": "code",
   "execution_count": 104,
   "metadata": {},
   "outputs": [
    {
     "data": {
      "text/plain": [
       "-0.04586091994327484"
      ]
     },
     "execution_count": 104,
     "metadata": {},
     "output_type": "execute_result"
    }
   ],
   "source": [
    "skewval1 = Stem_Activity['pChEMBL Value']\n",
    "skewval1.skew(skipna = True)"
   ]
  },
  {
   "cell_type": "code",
   "execution_count": 105,
   "metadata": {},
   "outputs": [
    {
     "data": {
      "text/plain": [
       "0.06120813620776686"
      ]
     },
     "execution_count": 105,
     "metadata": {},
     "output_type": "execute_result"
    }
   ],
   "source": [
    "skewval2 = Epi_Activity['pChEMBL Value']\n",
    "skewval2.skew(skipna = True)"
   ]
  },
  {
   "cell_type": "code",
   "execution_count": 106,
   "metadata": {},
   "outputs": [
    {
     "data": {
      "text/plain": [
       "-0.058501020135782275"
      ]
     },
     "execution_count": 106,
     "metadata": {},
     "output_type": "execute_result"
    }
   ],
   "source": [
    "skewval3 = RET_Activity['pChEMBL Value']\n",
    "skewval3.skew(skipna = True)"
   ]
  },
  {
   "cell_type": "code",
   "execution_count": 107,
   "metadata": {},
   "outputs": [
    {
     "data": {
      "text/plain": [
       "0.06750911836000204"
      ]
     },
     "execution_count": 107,
     "metadata": {},
     "output_type": "execute_result"
    }
   ],
   "source": [
    "skewval4 = Plt_Activity['pChEMBL Value']\n",
    "skewval4.skew(skipna = True)"
   ]
  },
  {
   "cell_type": "code",
   "execution_count": 108,
   "metadata": {},
   "outputs": [
    {
     "data": {
      "text/plain": [
       "0.04490764873006016"
      ]
     },
     "execution_count": 108,
     "metadata": {},
     "output_type": "execute_result"
    }
   ],
   "source": [
    "skewval5 = Glc_Activity['pChEMBL Value']\n",
    "skewval5.skew(skipna = True)"
   ]
  },
  {
   "cell_type": "markdown",
   "metadata": {},
   "source": [
    "### Kurtosis of the Top 5 targets"
   ]
  },
  {
   "cell_type": "code",
   "execution_count": 114,
   "metadata": {},
   "outputs": [
    {
     "data": {
      "text/plain": [
       "-0.3161406451222115"
      ]
     },
     "execution_count": 114,
     "metadata": {},
     "output_type": "execute_result"
    }
   ],
   "source": [
    "from scipy.stats import norm, kurtosis\n",
    "kurtosis(skewval1)\n"
   ]
  },
  {
   "cell_type": "code",
   "execution_count": 115,
   "metadata": {},
   "outputs": [
    {
     "data": {
      "text/plain": [
       "-0.7019053061615605"
      ]
     },
     "execution_count": 115,
     "metadata": {},
     "output_type": "execute_result"
    }
   ],
   "source": [
    "kurtosis(skewval2)"
   ]
  },
  {
   "cell_type": "code",
   "execution_count": 116,
   "metadata": {},
   "outputs": [
    {
     "data": {
      "text/plain": [
       "-0.6408124185385415"
      ]
     },
     "execution_count": 116,
     "metadata": {},
     "output_type": "execute_result"
    }
   ],
   "source": [
    "kurtosis(skewval3)"
   ]
  },
  {
   "cell_type": "code",
   "execution_count": 117,
   "metadata": {},
   "outputs": [
    {
     "data": {
      "text/plain": [
       "-0.5341636769535589"
      ]
     },
     "execution_count": 117,
     "metadata": {},
     "output_type": "execute_result"
    }
   ],
   "source": [
    "kurtosis(skewval4)"
   ]
  },
  {
   "cell_type": "code",
   "execution_count": 118,
   "metadata": {},
   "outputs": [
    {
     "data": {
      "text/plain": [
       "0.15255525724336172"
      ]
     },
     "execution_count": 118,
     "metadata": {},
     "output_type": "execute_result"
    }
   ],
   "source": [
    "kurtosis(skewval5)"
   ]
  }
 ],
 "metadata": {
  "kernelspec": {
   "display_name": "Python 3",
   "language": "python",
   "name": "python3"
  },
  "language_info": {
   "codemirror_mode": {
    "name": "ipython",
    "version": 3
   },
   "file_extension": ".py",
   "mimetype": "text/x-python",
   "name": "python",
   "nbconvert_exporter": "python",
   "pygments_lexer": "ipython3",
   "version": "3.7.4"
  }
 },
 "nbformat": 4,
 "nbformat_minor": 4
}
